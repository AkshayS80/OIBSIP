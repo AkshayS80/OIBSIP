{
 "cells": [
  {
   "cell_type": "markdown",
   "id": "4336e4b9",
   "metadata": {
    "papermill": {
     "duration": 0.01354,
     "end_time": "2023-04-04T18:46:13.362771",
     "exception": false,
     "start_time": "2023-04-04T18:46:13.349231",
     "status": "completed"
    },
    "tags": []
   },
   "source": [
    "# Iris Flower Classification"
   ]
  },
  {
   "cell_type": "markdown",
   "id": "8c3cac73",
   "metadata": {
    "papermill": {
     "duration": 0.010687,
     "end_time": "2023-04-04T18:46:13.387155",
     "exception": false,
     "start_time": "2023-04-04T18:46:13.376468",
     "status": "completed"
    },
    "tags": []
   },
   "source": [
    "## Introduction"
   ]
  },
  {
   "cell_type": "markdown",
   "id": "40db2c4e",
   "metadata": {
    "papermill": {
     "duration": 0.010883,
     "end_time": "2023-04-04T18:46:13.413036",
     "exception": false,
     "start_time": "2023-04-04T18:46:13.402153",
     "status": "completed"
    },
    "tags": []
   },
   "source": [
    "The Iris flower data set is a multivariate data set, (introduced by the British statistician and biologist Ronald Fisher) which became a typical test case for many statistical classification techniques in machine learning. Consequentially The Iris Dataset is regarded as data science's **Hello World**.\n",
    "\n",
    "The data set includes 50 samples from each of the three Iris species (Iris Setosa, Iris virginica, and Iris versicolor). From each sample, the length and width of the sepals and petals, both in centimetres, were measured. \n",
    "\n",
    "The collection includes 150 records with the following 5 attributes: class, petal length, petal width, sepal length, and sepal width (Species)."
   ]
  },
  {
   "cell_type": "markdown",
   "id": "302451f8",
   "metadata": {
    "papermill": {
     "duration": 0.01079,
     "end_time": "2023-04-04T18:46:13.436208",
     "exception": false,
     "start_time": "2023-04-04T18:46:13.425418",
     "status": "completed"
    },
    "tags": []
   },
   "source": [
    "For this machine learning project, we will make use of the Support Vector Machine Algorithm."
   ]
  },
  {
   "cell_type": "markdown",
   "id": "e5c9e0df",
   "metadata": {
    "papermill": {
     "duration": 0.01066,
     "end_time": "2023-04-04T18:46:13.457922",
     "exception": false,
     "start_time": "2023-04-04T18:46:13.447262",
     "status": "completed"
    },
    "tags": []
   },
   "source": [
    "### 1. Pre-requisites"
   ]
  },
  {
   "cell_type": "markdown",
   "id": "b7d01d4a",
   "metadata": {
    "papermill": {
     "duration": 0.010929,
     "end_time": "2023-04-04T18:46:13.479859",
     "exception": false,
     "start_time": "2023-04-04T18:46:13.468930",
     "status": "completed"
    },
    "tags": []
   },
   "source": [
    "First, we must import all the required libraries and get a basic overview on the dataset we are currently handling."
   ]
  },
  {
   "cell_type": "markdown",
   "id": "547b8027",
   "metadata": {
    "papermill": {
     "duration": 0.010628,
     "end_time": "2023-04-04T18:46:13.501571",
     "exception": false,
     "start_time": "2023-04-04T18:46:13.490943",
     "status": "completed"
    },
    "tags": []
   },
   "source": [
    "***a) Importing the Required Libraries***"
   ]
  },
  {
   "cell_type": "code",
   "execution_count": 1,
   "id": "a15119a1",
   "metadata": {
    "execution": {
     "iopub.execute_input": "2023-04-04T18:46:13.525739Z",
     "iopub.status.busy": "2023-04-04T18:46:13.525311Z",
     "iopub.status.idle": "2023-04-04T18:46:14.947692Z",
     "shell.execute_reply": "2023-04-04T18:46:14.946143Z"
    },
    "papermill": {
     "duration": 1.438047,
     "end_time": "2023-04-04T18:46:14.950739",
     "exception": false,
     "start_time": "2023-04-04T18:46:13.512692",
     "status": "completed"
    },
    "tags": []
   },
   "outputs": [],
   "source": [
    "#Importing The Required Libraries\n",
    "import numpy as np\n",
    "import pandas as pd\n",
    "import matplotlib.pyplot as plt\n",
    "import seaborn as sns\n",
    "from sklearn.model_selection import train_test_split\n",
    "from sklearn import svm\n",
    "from sklearn import metrics\n",
    "from sklearn.metrics import confusion_matrix,accuracy_score,classification_report"
   ]
  },
  {
   "cell_type": "markdown",
   "id": "75b92c1f",
   "metadata": {
    "papermill": {
     "duration": 0.010696,
     "end_time": "2023-04-04T18:46:14.972543",
     "exception": false,
     "start_time": "2023-04-04T18:46:14.961847",
     "status": "completed"
    },
    "tags": []
   },
   "source": [
    "***b) Loading the Dataset and introductory insights***"
   ]
  },
  {
   "cell_type": "markdown",
   "id": "534b685d",
   "metadata": {
    "papermill": {
     "duration": 0.010805,
     "end_time": "2023-04-04T18:46:14.994388",
     "exception": false,
     "start_time": "2023-04-04T18:46:14.983583",
     "status": "completed"
    },
    "tags": []
   },
   "source": [
    "* Loading the Dataset"
   ]
  },
  {
   "cell_type": "code",
   "execution_count": 2,
   "id": "059330b0",
   "metadata": {
    "execution": {
     "iopub.execute_input": "2023-04-04T18:46:15.019029Z",
     "iopub.status.busy": "2023-04-04T18:46:15.017981Z",
     "iopub.status.idle": "2023-04-04T18:46:15.072614Z",
     "shell.execute_reply": "2023-04-04T18:46:15.071370Z"
    },
    "papermill": {
     "duration": 0.069612,
     "end_time": "2023-04-04T18:46:15.075121",
     "exception": false,
     "start_time": "2023-04-04T18:46:15.005509",
     "status": "completed"
    },
    "tags": []
   },
   "outputs": [
    {
     "data": {
      "text/html": [
       "<div>\n",
       "<style scoped>\n",
       "    .dataframe tbody tr th:only-of-type {\n",
       "        vertical-align: middle;\n",
       "    }\n",
       "\n",
       "    .dataframe tbody tr th {\n",
       "        vertical-align: top;\n",
       "    }\n",
       "\n",
       "    .dataframe thead th {\n",
       "        text-align: right;\n",
       "    }\n",
       "</style>\n",
       "<table border=\"1\" class=\"dataframe\">\n",
       "  <thead>\n",
       "    <tr style=\"text-align: right;\">\n",
       "      <th></th>\n",
       "      <th>Id</th>\n",
       "      <th>SepalLengthCm</th>\n",
       "      <th>SepalWidthCm</th>\n",
       "      <th>PetalLengthCm</th>\n",
       "      <th>PetalWidthCm</th>\n",
       "      <th>Species</th>\n",
       "    </tr>\n",
       "  </thead>\n",
       "  <tbody>\n",
       "    <tr>\n",
       "      <th>0</th>\n",
       "      <td>1</td>\n",
       "      <td>5.1</td>\n",
       "      <td>3.5</td>\n",
       "      <td>1.4</td>\n",
       "      <td>0.2</td>\n",
       "      <td>Iris-setosa</td>\n",
       "    </tr>\n",
       "    <tr>\n",
       "      <th>1</th>\n",
       "      <td>2</td>\n",
       "      <td>4.9</td>\n",
       "      <td>3.0</td>\n",
       "      <td>1.4</td>\n",
       "      <td>0.2</td>\n",
       "      <td>Iris-setosa</td>\n",
       "    </tr>\n",
       "    <tr>\n",
       "      <th>2</th>\n",
       "      <td>3</td>\n",
       "      <td>4.7</td>\n",
       "      <td>3.2</td>\n",
       "      <td>1.3</td>\n",
       "      <td>0.2</td>\n",
       "      <td>Iris-setosa</td>\n",
       "    </tr>\n",
       "    <tr>\n",
       "      <th>3</th>\n",
       "      <td>4</td>\n",
       "      <td>4.6</td>\n",
       "      <td>3.1</td>\n",
       "      <td>1.5</td>\n",
       "      <td>0.2</td>\n",
       "      <td>Iris-setosa</td>\n",
       "    </tr>\n",
       "    <tr>\n",
       "      <th>4</th>\n",
       "      <td>5</td>\n",
       "      <td>5.0</td>\n",
       "      <td>3.6</td>\n",
       "      <td>1.4</td>\n",
       "      <td>0.2</td>\n",
       "      <td>Iris-setosa</td>\n",
       "    </tr>\n",
       "    <tr>\n",
       "      <th>...</th>\n",
       "      <td>...</td>\n",
       "      <td>...</td>\n",
       "      <td>...</td>\n",
       "      <td>...</td>\n",
       "      <td>...</td>\n",
       "      <td>...</td>\n",
       "    </tr>\n",
       "    <tr>\n",
       "      <th>145</th>\n",
       "      <td>146</td>\n",
       "      <td>6.7</td>\n",
       "      <td>3.0</td>\n",
       "      <td>5.2</td>\n",
       "      <td>2.3</td>\n",
       "      <td>Iris-virginica</td>\n",
       "    </tr>\n",
       "    <tr>\n",
       "      <th>146</th>\n",
       "      <td>147</td>\n",
       "      <td>6.3</td>\n",
       "      <td>2.5</td>\n",
       "      <td>5.0</td>\n",
       "      <td>1.9</td>\n",
       "      <td>Iris-virginica</td>\n",
       "    </tr>\n",
       "    <tr>\n",
       "      <th>147</th>\n",
       "      <td>148</td>\n",
       "      <td>6.5</td>\n",
       "      <td>3.0</td>\n",
       "      <td>5.2</td>\n",
       "      <td>2.0</td>\n",
       "      <td>Iris-virginica</td>\n",
       "    </tr>\n",
       "    <tr>\n",
       "      <th>148</th>\n",
       "      <td>149</td>\n",
       "      <td>6.2</td>\n",
       "      <td>3.4</td>\n",
       "      <td>5.4</td>\n",
       "      <td>2.3</td>\n",
       "      <td>Iris-virginica</td>\n",
       "    </tr>\n",
       "    <tr>\n",
       "      <th>149</th>\n",
       "      <td>150</td>\n",
       "      <td>5.9</td>\n",
       "      <td>3.0</td>\n",
       "      <td>5.1</td>\n",
       "      <td>1.8</td>\n",
       "      <td>Iris-virginica</td>\n",
       "    </tr>\n",
       "  </tbody>\n",
       "</table>\n",
       "<p>150 rows × 6 columns</p>\n",
       "</div>"
      ],
      "text/plain": [
       "      Id  SepalLengthCm  SepalWidthCm  PetalLengthCm  PetalWidthCm  \\\n",
       "0      1            5.1           3.5            1.4           0.2   \n",
       "1      2            4.9           3.0            1.4           0.2   \n",
       "2      3            4.7           3.2            1.3           0.2   \n",
       "3      4            4.6           3.1            1.5           0.2   \n",
       "4      5            5.0           3.6            1.4           0.2   \n",
       "..   ...            ...           ...            ...           ...   \n",
       "145  146            6.7           3.0            5.2           2.3   \n",
       "146  147            6.3           2.5            5.0           1.9   \n",
       "147  148            6.5           3.0            5.2           2.0   \n",
       "148  149            6.2           3.4            5.4           2.3   \n",
       "149  150            5.9           3.0            5.1           1.8   \n",
       "\n",
       "            Species  \n",
       "0       Iris-setosa  \n",
       "1       Iris-setosa  \n",
       "2       Iris-setosa  \n",
       "3       Iris-setosa  \n",
       "4       Iris-setosa  \n",
       "..              ...  \n",
       "145  Iris-virginica  \n",
       "146  Iris-virginica  \n",
       "147  Iris-virginica  \n",
       "148  Iris-virginica  \n",
       "149  Iris-virginica  \n",
       "\n",
       "[150 rows x 6 columns]"
      ]
     },
     "execution_count": 2,
     "metadata": {},
     "output_type": "execute_result"
    }
   ],
   "source": [
    "#loading dataset\n",
    "irisdf=pd.read_csv(\"/kaggle/input/iriscsv/Iris.csv\")\n",
    "irisdf"
   ]
  },
  {
   "cell_type": "markdown",
   "id": "00f48cf2",
   "metadata": {
    "papermill": {
     "duration": 0.01125,
     "end_time": "2023-04-04T18:46:15.098425",
     "exception": false,
     "start_time": "2023-04-04T18:46:15.087175",
     "status": "completed"
    },
    "tags": []
   },
   "source": [
    "* Displaying sections of the dataset"
   ]
  },
  {
   "cell_type": "code",
   "execution_count": 3,
   "id": "0276617c",
   "metadata": {
    "execution": {
     "iopub.execute_input": "2023-04-04T18:46:15.123435Z",
     "iopub.status.busy": "2023-04-04T18:46:15.123021Z",
     "iopub.status.idle": "2023-04-04T18:46:15.137566Z",
     "shell.execute_reply": "2023-04-04T18:46:15.136288Z"
    },
    "papermill": {
     "duration": 0.030075,
     "end_time": "2023-04-04T18:46:15.139940",
     "exception": false,
     "start_time": "2023-04-04T18:46:15.109865",
     "status": "completed"
    },
    "tags": []
   },
   "outputs": [
    {
     "data": {
      "text/html": [
       "<div>\n",
       "<style scoped>\n",
       "    .dataframe tbody tr th:only-of-type {\n",
       "        vertical-align: middle;\n",
       "    }\n",
       "\n",
       "    .dataframe tbody tr th {\n",
       "        vertical-align: top;\n",
       "    }\n",
       "\n",
       "    .dataframe thead th {\n",
       "        text-align: right;\n",
       "    }\n",
       "</style>\n",
       "<table border=\"1\" class=\"dataframe\">\n",
       "  <thead>\n",
       "    <tr style=\"text-align: right;\">\n",
       "      <th></th>\n",
       "      <th>Id</th>\n",
       "      <th>SepalLengthCm</th>\n",
       "      <th>SepalWidthCm</th>\n",
       "      <th>PetalLengthCm</th>\n",
       "      <th>PetalWidthCm</th>\n",
       "      <th>Species</th>\n",
       "    </tr>\n",
       "  </thead>\n",
       "  <tbody>\n",
       "    <tr>\n",
       "      <th>0</th>\n",
       "      <td>1</td>\n",
       "      <td>5.1</td>\n",
       "      <td>3.5</td>\n",
       "      <td>1.4</td>\n",
       "      <td>0.2</td>\n",
       "      <td>Iris-setosa</td>\n",
       "    </tr>\n",
       "    <tr>\n",
       "      <th>1</th>\n",
       "      <td>2</td>\n",
       "      <td>4.9</td>\n",
       "      <td>3.0</td>\n",
       "      <td>1.4</td>\n",
       "      <td>0.2</td>\n",
       "      <td>Iris-setosa</td>\n",
       "    </tr>\n",
       "    <tr>\n",
       "      <th>2</th>\n",
       "      <td>3</td>\n",
       "      <td>4.7</td>\n",
       "      <td>3.2</td>\n",
       "      <td>1.3</td>\n",
       "      <td>0.2</td>\n",
       "      <td>Iris-setosa</td>\n",
       "    </tr>\n",
       "    <tr>\n",
       "      <th>3</th>\n",
       "      <td>4</td>\n",
       "      <td>4.6</td>\n",
       "      <td>3.1</td>\n",
       "      <td>1.5</td>\n",
       "      <td>0.2</td>\n",
       "      <td>Iris-setosa</td>\n",
       "    </tr>\n",
       "    <tr>\n",
       "      <th>4</th>\n",
       "      <td>5</td>\n",
       "      <td>5.0</td>\n",
       "      <td>3.6</td>\n",
       "      <td>1.4</td>\n",
       "      <td>0.2</td>\n",
       "      <td>Iris-setosa</td>\n",
       "    </tr>\n",
       "  </tbody>\n",
       "</table>\n",
       "</div>"
      ],
      "text/plain": [
       "   Id  SepalLengthCm  SepalWidthCm  PetalLengthCm  PetalWidthCm      Species\n",
       "0   1            5.1           3.5            1.4           0.2  Iris-setosa\n",
       "1   2            4.9           3.0            1.4           0.2  Iris-setosa\n",
       "2   3            4.7           3.2            1.3           0.2  Iris-setosa\n",
       "3   4            4.6           3.1            1.5           0.2  Iris-setosa\n",
       "4   5            5.0           3.6            1.4           0.2  Iris-setosa"
      ]
     },
     "execution_count": 3,
     "metadata": {},
     "output_type": "execute_result"
    }
   ],
   "source": [
    "#displaying the first 5 values in the data set\n",
    "irisdf.head()"
   ]
  },
  {
   "cell_type": "code",
   "execution_count": 4,
   "id": "a1e5683e",
   "metadata": {
    "execution": {
     "iopub.execute_input": "2023-04-04T18:46:15.165497Z",
     "iopub.status.busy": "2023-04-04T18:46:15.164795Z",
     "iopub.status.idle": "2023-04-04T18:46:15.178959Z",
     "shell.execute_reply": "2023-04-04T18:46:15.177769Z"
    },
    "papermill": {
     "duration": 0.029906,
     "end_time": "2023-04-04T18:46:15.181644",
     "exception": false,
     "start_time": "2023-04-04T18:46:15.151738",
     "status": "completed"
    },
    "tags": []
   },
   "outputs": [
    {
     "data": {
      "text/html": [
       "<div>\n",
       "<style scoped>\n",
       "    .dataframe tbody tr th:only-of-type {\n",
       "        vertical-align: middle;\n",
       "    }\n",
       "\n",
       "    .dataframe tbody tr th {\n",
       "        vertical-align: top;\n",
       "    }\n",
       "\n",
       "    .dataframe thead th {\n",
       "        text-align: right;\n",
       "    }\n",
       "</style>\n",
       "<table border=\"1\" class=\"dataframe\">\n",
       "  <thead>\n",
       "    <tr style=\"text-align: right;\">\n",
       "      <th></th>\n",
       "      <th>Id</th>\n",
       "      <th>SepalLengthCm</th>\n",
       "      <th>SepalWidthCm</th>\n",
       "      <th>PetalLengthCm</th>\n",
       "      <th>PetalWidthCm</th>\n",
       "      <th>Species</th>\n",
       "    </tr>\n",
       "  </thead>\n",
       "  <tbody>\n",
       "    <tr>\n",
       "      <th>145</th>\n",
       "      <td>146</td>\n",
       "      <td>6.7</td>\n",
       "      <td>3.0</td>\n",
       "      <td>5.2</td>\n",
       "      <td>2.3</td>\n",
       "      <td>Iris-virginica</td>\n",
       "    </tr>\n",
       "    <tr>\n",
       "      <th>146</th>\n",
       "      <td>147</td>\n",
       "      <td>6.3</td>\n",
       "      <td>2.5</td>\n",
       "      <td>5.0</td>\n",
       "      <td>1.9</td>\n",
       "      <td>Iris-virginica</td>\n",
       "    </tr>\n",
       "    <tr>\n",
       "      <th>147</th>\n",
       "      <td>148</td>\n",
       "      <td>6.5</td>\n",
       "      <td>3.0</td>\n",
       "      <td>5.2</td>\n",
       "      <td>2.0</td>\n",
       "      <td>Iris-virginica</td>\n",
       "    </tr>\n",
       "    <tr>\n",
       "      <th>148</th>\n",
       "      <td>149</td>\n",
       "      <td>6.2</td>\n",
       "      <td>3.4</td>\n",
       "      <td>5.4</td>\n",
       "      <td>2.3</td>\n",
       "      <td>Iris-virginica</td>\n",
       "    </tr>\n",
       "    <tr>\n",
       "      <th>149</th>\n",
       "      <td>150</td>\n",
       "      <td>5.9</td>\n",
       "      <td>3.0</td>\n",
       "      <td>5.1</td>\n",
       "      <td>1.8</td>\n",
       "      <td>Iris-virginica</td>\n",
       "    </tr>\n",
       "  </tbody>\n",
       "</table>\n",
       "</div>"
      ],
      "text/plain": [
       "      Id  SepalLengthCm  SepalWidthCm  PetalLengthCm  PetalWidthCm  \\\n",
       "145  146            6.7           3.0            5.2           2.3   \n",
       "146  147            6.3           2.5            5.0           1.9   \n",
       "147  148            6.5           3.0            5.2           2.0   \n",
       "148  149            6.2           3.4            5.4           2.3   \n",
       "149  150            5.9           3.0            5.1           1.8   \n",
       "\n",
       "            Species  \n",
       "145  Iris-virginica  \n",
       "146  Iris-virginica  \n",
       "147  Iris-virginica  \n",
       "148  Iris-virginica  \n",
       "149  Iris-virginica  "
      ]
     },
     "execution_count": 4,
     "metadata": {},
     "output_type": "execute_result"
    }
   ],
   "source": [
    "#displaying the last 5 values in the data set\n",
    "irisdf.tail()"
   ]
  },
  {
   "cell_type": "markdown",
   "id": "85b56817",
   "metadata": {
    "papermill": {
     "duration": 0.011793,
     "end_time": "2023-04-04T18:46:15.205388",
     "exception": false,
     "start_time": "2023-04-04T18:46:15.193595",
     "status": "completed"
    },
    "tags": []
   },
   "source": [
    "* Understanding the Shape of the data"
   ]
  },
  {
   "cell_type": "code",
   "execution_count": 5,
   "id": "416c9047",
   "metadata": {
    "execution": {
     "iopub.execute_input": "2023-04-04T18:46:15.231538Z",
     "iopub.status.busy": "2023-04-04T18:46:15.231095Z",
     "iopub.status.idle": "2023-04-04T18:46:15.237244Z",
     "shell.execute_reply": "2023-04-04T18:46:15.236326Z"
    },
    "papermill": {
     "duration": 0.022085,
     "end_time": "2023-04-04T18:46:15.239426",
     "exception": false,
     "start_time": "2023-04-04T18:46:15.217341",
     "status": "completed"
    },
    "tags": []
   },
   "outputs": [
    {
     "data": {
      "text/plain": [
       "(150, 6)"
      ]
     },
     "execution_count": 5,
     "metadata": {},
     "output_type": "execute_result"
    }
   ],
   "source": [
    "irisdf.shape"
   ]
  },
  {
   "cell_type": "markdown",
   "id": "ce550392",
   "metadata": {
    "papermill": {
     "duration": 0.011442,
     "end_time": "2023-04-04T18:46:15.262699",
     "exception": false,
     "start_time": "2023-04-04T18:46:15.251257",
     "status": "completed"
    },
    "tags": []
   },
   "source": [
    "### 2. Statistical Insights"
   ]
  },
  {
   "cell_type": "markdown",
   "id": "2153f6a7",
   "metadata": {
    "papermill": {
     "duration": 0.011448,
     "end_time": "2023-04-04T18:46:15.286015",
     "exception": false,
     "start_time": "2023-04-04T18:46:15.274567",
     "status": "completed"
    },
    "tags": []
   },
   "source": [
    "This is done to obtain the statistical information on the dataset. This includes mean, standard deviation, median, maximum value, and minimum value as well as reoccurance of values in the dataset at different percentages."
   ]
  },
  {
   "cell_type": "code",
   "execution_count": 6,
   "id": "375c2857",
   "metadata": {
    "execution": {
     "iopub.execute_input": "2023-04-04T18:46:15.311548Z",
     "iopub.status.busy": "2023-04-04T18:46:15.311114Z",
     "iopub.status.idle": "2023-04-04T18:46:15.345546Z",
     "shell.execute_reply": "2023-04-04T18:46:15.344289Z"
    },
    "papermill": {
     "duration": 0.050503,
     "end_time": "2023-04-04T18:46:15.348278",
     "exception": false,
     "start_time": "2023-04-04T18:46:15.297775",
     "status": "completed"
    },
    "tags": []
   },
   "outputs": [
    {
     "data": {
      "text/html": [
       "<div>\n",
       "<style scoped>\n",
       "    .dataframe tbody tr th:only-of-type {\n",
       "        vertical-align: middle;\n",
       "    }\n",
       "\n",
       "    .dataframe tbody tr th {\n",
       "        vertical-align: top;\n",
       "    }\n",
       "\n",
       "    .dataframe thead th {\n",
       "        text-align: right;\n",
       "    }\n",
       "</style>\n",
       "<table border=\"1\" class=\"dataframe\">\n",
       "  <thead>\n",
       "    <tr style=\"text-align: right;\">\n",
       "      <th></th>\n",
       "      <th>Id</th>\n",
       "      <th>SepalLengthCm</th>\n",
       "      <th>SepalWidthCm</th>\n",
       "      <th>PetalLengthCm</th>\n",
       "      <th>PetalWidthCm</th>\n",
       "    </tr>\n",
       "  </thead>\n",
       "  <tbody>\n",
       "    <tr>\n",
       "      <th>count</th>\n",
       "      <td>150.000000</td>\n",
       "      <td>150.000000</td>\n",
       "      <td>150.000000</td>\n",
       "      <td>150.000000</td>\n",
       "      <td>150.000000</td>\n",
       "    </tr>\n",
       "    <tr>\n",
       "      <th>mean</th>\n",
       "      <td>75.500000</td>\n",
       "      <td>5.843333</td>\n",
       "      <td>3.054000</td>\n",
       "      <td>3.758667</td>\n",
       "      <td>1.198667</td>\n",
       "    </tr>\n",
       "    <tr>\n",
       "      <th>std</th>\n",
       "      <td>43.445368</td>\n",
       "      <td>0.828066</td>\n",
       "      <td>0.433594</td>\n",
       "      <td>1.764420</td>\n",
       "      <td>0.763161</td>\n",
       "    </tr>\n",
       "    <tr>\n",
       "      <th>min</th>\n",
       "      <td>1.000000</td>\n",
       "      <td>4.300000</td>\n",
       "      <td>2.000000</td>\n",
       "      <td>1.000000</td>\n",
       "      <td>0.100000</td>\n",
       "    </tr>\n",
       "    <tr>\n",
       "      <th>25%</th>\n",
       "      <td>38.250000</td>\n",
       "      <td>5.100000</td>\n",
       "      <td>2.800000</td>\n",
       "      <td>1.600000</td>\n",
       "      <td>0.300000</td>\n",
       "    </tr>\n",
       "    <tr>\n",
       "      <th>50%</th>\n",
       "      <td>75.500000</td>\n",
       "      <td>5.800000</td>\n",
       "      <td>3.000000</td>\n",
       "      <td>4.350000</td>\n",
       "      <td>1.300000</td>\n",
       "    </tr>\n",
       "    <tr>\n",
       "      <th>75%</th>\n",
       "      <td>112.750000</td>\n",
       "      <td>6.400000</td>\n",
       "      <td>3.300000</td>\n",
       "      <td>5.100000</td>\n",
       "      <td>1.800000</td>\n",
       "    </tr>\n",
       "    <tr>\n",
       "      <th>max</th>\n",
       "      <td>150.000000</td>\n",
       "      <td>7.900000</td>\n",
       "      <td>4.400000</td>\n",
       "      <td>6.900000</td>\n",
       "      <td>2.500000</td>\n",
       "    </tr>\n",
       "  </tbody>\n",
       "</table>\n",
       "</div>"
      ],
      "text/plain": [
       "               Id  SepalLengthCm  SepalWidthCm  PetalLengthCm  PetalWidthCm\n",
       "count  150.000000     150.000000    150.000000     150.000000    150.000000\n",
       "mean    75.500000       5.843333      3.054000       3.758667      1.198667\n",
       "std     43.445368       0.828066      0.433594       1.764420      0.763161\n",
       "min      1.000000       4.300000      2.000000       1.000000      0.100000\n",
       "25%     38.250000       5.100000      2.800000       1.600000      0.300000\n",
       "50%     75.500000       5.800000      3.000000       4.350000      1.300000\n",
       "75%    112.750000       6.400000      3.300000       5.100000      1.800000\n",
       "max    150.000000       7.900000      4.400000       6.900000      2.500000"
      ]
     },
     "execution_count": 6,
     "metadata": {},
     "output_type": "execute_result"
    }
   ],
   "source": [
    "#Statistical summary of the dataset \n",
    "irisdf.describe()"
   ]
  },
  {
   "cell_type": "code",
   "execution_count": 7,
   "id": "d038153b",
   "metadata": {
    "execution": {
     "iopub.execute_input": "2023-04-04T18:46:15.374605Z",
     "iopub.status.busy": "2023-04-04T18:46:15.374176Z",
     "iopub.status.idle": "2023-04-04T18:46:15.392453Z",
     "shell.execute_reply": "2023-04-04T18:46:15.390461Z"
    },
    "papermill": {
     "duration": 0.035123,
     "end_time": "2023-04-04T18:46:15.395675",
     "exception": false,
     "start_time": "2023-04-04T18:46:15.360552",
     "status": "completed"
    },
    "tags": []
   },
   "outputs": [
    {
     "name": "stdout",
     "output_type": "stream",
     "text": [
      "<class 'pandas.core.frame.DataFrame'>\n",
      "RangeIndex: 150 entries, 0 to 149\n",
      "Data columns (total 6 columns):\n",
      " #   Column         Non-Null Count  Dtype  \n",
      "---  ------         --------------  -----  \n",
      " 0   Id             150 non-null    int64  \n",
      " 1   SepalLengthCm  150 non-null    float64\n",
      " 2   SepalWidthCm   150 non-null    float64\n",
      " 3   PetalLengthCm  150 non-null    float64\n",
      " 4   PetalWidthCm   150 non-null    float64\n",
      " 5   Species        150 non-null    object \n",
      "dtypes: float64(4), int64(1), object(1)\n",
      "memory usage: 7.2+ KB\n"
     ]
    }
   ],
   "source": [
    "#Info of the dataset\n",
    "irisdf.info()"
   ]
  },
  {
   "cell_type": "markdown",
   "id": "00974e3d",
   "metadata": {
    "papermill": {
     "duration": 0.012223,
     "end_time": "2023-04-04T18:46:15.420573",
     "exception": false,
     "start_time": "2023-04-04T18:46:15.408350",
     "status": "completed"
    },
    "tags": []
   },
   "source": [
    "### 3) Data Cleaning"
   ]
  },
  {
   "cell_type": "markdown",
   "id": "d049ac2f",
   "metadata": {
    "papermill": {
     "duration": 0.011812,
     "end_time": "2023-04-04T18:46:15.444585",
     "exception": false,
     "start_time": "2023-04-04T18:46:15.432773",
     "status": "completed"
    },
    "tags": []
   },
   "source": [
    "This is considered the most crucial phase in any Machine Learning project and it involves :-\n",
    "* deleting duplicate rows and columns\n",
    "* filling in empty entries with respective data values like mean and median\n",
    "* dropping irrelevant values \n",
    "* removing null entries"
   ]
  },
  {
   "cell_type": "markdown",
   "id": "e027b4fa",
   "metadata": {
    "papermill": {
     "duration": 0.012205,
     "end_time": "2023-04-04T18:46:15.468914",
     "exception": false,
     "start_time": "2023-04-04T18:46:15.456709",
     "status": "completed"
    },
    "tags": []
   },
   "source": [
    "***a)Removing duplicates***"
   ]
  },
  {
   "cell_type": "markdown",
   "id": "eb88c72c",
   "metadata": {
    "papermill": {
     "duration": 0.011908,
     "end_time": "2023-04-04T18:46:15.492993",
     "exception": false,
     "start_time": "2023-04-04T18:46:15.481085",
     "status": "completed"
    },
    "tags": []
   },
   "source": [
    "***i)Checking for Duplicates***"
   ]
  },
  {
   "cell_type": "code",
   "execution_count": 8,
   "id": "24c78e05",
   "metadata": {
    "execution": {
     "iopub.execute_input": "2023-04-04T18:46:15.519890Z",
     "iopub.status.busy": "2023-04-04T18:46:15.518634Z",
     "iopub.status.idle": "2023-04-04T18:46:15.528981Z",
     "shell.execute_reply": "2023-04-04T18:46:15.527641Z"
    },
    "papermill": {
     "duration": 0.02687,
     "end_time": "2023-04-04T18:46:15.532021",
     "exception": false,
     "start_time": "2023-04-04T18:46:15.505151",
     "status": "completed"
    },
    "tags": []
   },
   "outputs": [
    {
     "data": {
      "text/plain": [
       "0"
      ]
     },
     "execution_count": 8,
     "metadata": {},
     "output_type": "execute_result"
    }
   ],
   "source": [
    "irisdf.duplicated().sum()"
   ]
  },
  {
   "cell_type": "markdown",
   "id": "f201d3d0",
   "metadata": {
    "papermill": {
     "duration": 0.011976,
     "end_time": "2023-04-04T18:46:15.556360",
     "exception": false,
     "start_time": "2023-04-04T18:46:15.544384",
     "status": "completed"
    },
    "tags": []
   },
   "source": [
    "Since there are no duplicate values, we move on to check for missing values"
   ]
  },
  {
   "cell_type": "markdown",
   "id": "6420459e",
   "metadata": {
    "papermill": {
     "duration": 0.01188,
     "end_time": "2023-04-04T18:46:15.580484",
     "exception": false,
     "start_time": "2023-04-04T18:46:15.568604",
     "status": "completed"
    },
    "tags": []
   },
   "source": [
    "***b)Handling Missing Values***"
   ]
  },
  {
   "cell_type": "markdown",
   "id": "94b19d05",
   "metadata": {
    "papermill": {
     "duration": 0.011965,
     "end_time": "2023-04-04T18:46:15.604893",
     "exception": false,
     "start_time": "2023-04-04T18:46:15.592928",
     "status": "completed"
    },
    "tags": []
   },
   "source": [
    "***i)Checking for missing values***"
   ]
  },
  {
   "cell_type": "code",
   "execution_count": 9,
   "id": "dfb272ba",
   "metadata": {
    "execution": {
     "iopub.execute_input": "2023-04-04T18:46:15.631761Z",
     "iopub.status.busy": "2023-04-04T18:46:15.631359Z",
     "iopub.status.idle": "2023-04-04T18:46:15.640064Z",
     "shell.execute_reply": "2023-04-04T18:46:15.639258Z"
    },
    "papermill": {
     "duration": 0.024614,
     "end_time": "2023-04-04T18:46:15.642140",
     "exception": false,
     "start_time": "2023-04-04T18:46:15.617526",
     "status": "completed"
    },
    "tags": []
   },
   "outputs": [
    {
     "data": {
      "text/plain": [
       "Id               0\n",
       "SepalLengthCm    0\n",
       "SepalWidthCm     0\n",
       "PetalLengthCm    0\n",
       "PetalWidthCm     0\n",
       "Species          0\n",
       "dtype: int64"
      ]
     },
     "execution_count": 9,
     "metadata": {},
     "output_type": "execute_result"
    }
   ],
   "source": [
    "irisdf.isnull().sum()"
   ]
  },
  {
   "cell_type": "markdown",
   "id": "9f3e0313",
   "metadata": {
    "papermill": {
     "duration": 0.012033,
     "end_time": "2023-04-04T18:46:15.666572",
     "exception": false,
     "start_time": "2023-04-04T18:46:15.654539",
     "status": "completed"
    },
    "tags": []
   },
   "source": [
    "Since there are no columns with missing values, We can move on to dropping any irrelevant values."
   ]
  },
  {
   "cell_type": "markdown",
   "id": "23c9989d",
   "metadata": {
    "papermill": {
     "duration": 0.012241,
     "end_time": "2023-04-04T18:46:15.691121",
     "exception": false,
     "start_time": "2023-04-04T18:46:15.678880",
     "status": "completed"
    },
    "tags": []
   },
   "source": [
    "***c) Dropping irrelevant values***"
   ]
  },
  {
   "cell_type": "markdown",
   "id": "df5a63eb",
   "metadata": {
    "papermill": {
     "duration": 0.012015,
     "end_time": "2023-04-04T18:46:15.715543",
     "exception": false,
     "start_time": "2023-04-04T18:46:15.703528",
     "status": "completed"
    },
    "tags": []
   },
   "source": [
    "We can see that \"Id\" has no effect on the determination of the length and species of the iris flower and hence, we must remove the column.\n",
    "\n",
    "To do this, we use the drop function "
   ]
  },
  {
   "cell_type": "code",
   "execution_count": 10,
   "id": "074dac5c",
   "metadata": {
    "execution": {
     "iopub.execute_input": "2023-04-04T18:46:15.742925Z",
     "iopub.status.busy": "2023-04-04T18:46:15.742176Z",
     "iopub.status.idle": "2023-04-04T18:46:15.748201Z",
     "shell.execute_reply": "2023-04-04T18:46:15.746948Z"
    },
    "papermill": {
     "duration": 0.022936,
     "end_time": "2023-04-04T18:46:15.750852",
     "exception": false,
     "start_time": "2023-04-04T18:46:15.727916",
     "status": "completed"
    },
    "tags": []
   },
   "outputs": [],
   "source": [
    "irisdf=irisdf.drop(\"Id\",axis=1)\n"
   ]
  },
  {
   "cell_type": "markdown",
   "id": "08898bbb",
   "metadata": {
    "papermill": {
     "duration": 0.012528,
     "end_time": "2023-04-04T18:46:15.776272",
     "exception": false,
     "start_time": "2023-04-04T18:46:15.763744",
     "status": "completed"
    },
    "tags": []
   },
   "source": [
    "**We have gained the necessary insights and cleaned the dataset. Now we can move on to visualizing and modelling the data**"
   ]
  },
  {
   "cell_type": "markdown",
   "id": "e0150026",
   "metadata": {
    "papermill": {
     "duration": 0.012405,
     "end_time": "2023-04-04T18:46:15.801485",
     "exception": false,
     "start_time": "2023-04-04T18:46:15.789080",
     "status": "completed"
    },
    "tags": []
   },
   "source": [
    "## 4. Data Visualization"
   ]
  },
  {
   "cell_type": "markdown",
   "id": "26f1b6d1",
   "metadata": {
    "papermill": {
     "duration": 0.012295,
     "end_time": "2023-04-04T18:46:15.826615",
     "exception": false,
     "start_time": "2023-04-04T18:46:15.814320",
     "status": "completed"
    },
    "tags": []
   },
   "source": [
    "This is done to pictorically represent the data for better and easier understanding. \n",
    "\n",
    "To do this,we will use Seaborn and Matplotlib to create a **pair plot** which provides different types of visualizations of the dataset between all parameters and a **pie chart**"
   ]
  },
  {
   "cell_type": "code",
   "execution_count": 11,
   "id": "ae0aa501",
   "metadata": {
    "execution": {
     "iopub.execute_input": "2023-04-04T18:46:15.853876Z",
     "iopub.status.busy": "2023-04-04T18:46:15.853445Z",
     "iopub.status.idle": "2023-04-04T18:46:20.682581Z",
     "shell.execute_reply": "2023-04-04T18:46:20.681414Z"
    },
    "papermill": {
     "duration": 4.846557,
     "end_time": "2023-04-04T18:46:20.685807",
     "exception": false,
     "start_time": "2023-04-04T18:46:15.839250",
     "status": "completed"
    },
    "tags": []
   },
   "outputs": [
    {
     "data": {
      "text/plain": [
       "<seaborn.axisgrid.PairGrid at 0x747e9962ce90>"
      ]
     },
     "execution_count": 11,
     "metadata": {},
     "output_type": "execute_result"
    },
    {
     "data": {
      "image/png": "[encoded data removed]",
      "text/plain": [
       "<Figure size 943x800 with 20 Axes>"
      ]
     },
     "metadata": {},
     "output_type": "display_data"
    }
   ],
   "source": [
    "#Pair plot construction \n",
    "sns.pairplot(irisdf,hue='Species',height=2)"
   ]
  },
  {
   "cell_type": "code",
   "execution_count": 12,
   "id": "3f54ba0a",
   "metadata": {
    "execution": {
     "iopub.execute_input": "2023-04-04T18:46:20.721252Z",
     "iopub.status.busy": "2023-04-04T18:46:20.720828Z",
     "iopub.status.idle": "2023-04-04T18:46:20.848159Z",
     "shell.execute_reply": "2023-04-04T18:46:20.846476Z"
    },
    "papermill": {
     "duration": 0.150107,
     "end_time": "2023-04-04T18:46:20.852829",
     "exception": false,
     "start_time": "2023-04-04T18:46:20.702722",
     "status": "completed"
    },
    "tags": []
   },
   "outputs": [
    {
     "data": {
      "text/plain": [
       "([<matplotlib.patches.Wedge at 0x747e8f5bccd0>,\n",
       "  <matplotlib.patches.Wedge at 0x747e8f5ad1d0>,\n",
       "  <matplotlib.patches.Wedge at 0x747e8f5cd050>],\n",
       " [Text(0.5499999702695115, 0.9526279613277875, 'Setosa'),\n",
       "  Text(-1.0999999999999954, -1.0298943258065002e-07, 'Versicolor'),\n",
       "  Text(0.5500001486524352, -0.9526278583383436, 'Virginica')])"
      ]
     },
     "execution_count": 12,
     "metadata": {},
     "output_type": "execute_result"
    },
    {
     "data": {
      "image/png": "[encoded data removed]",
      "text/plain": [
       "<Figure size 640x480 with 1 Axes>"
      ]
     },
     "metadata": {},
     "output_type": "display_data"
    }
   ],
   "source": [
    "setosa=irisdf[irisdf['Species']=='Iris-setosa']\n",
    "versicolor=irisdf[irisdf['Species']=='Iris-versicolor']\n",
    "virginica=irisdf[irisdf['Species']=='Iris-virginica']\n",
    "plt.pie(irisdf['Species'].value_counts(),labels=['Setosa','Versicolor','Virginica'])"
   ]
  },
  {
   "cell_type": "markdown",
   "id": "29beff82",
   "metadata": {
    "papermill": {
     "duration": 0.025643,
     "end_time": "2023-04-04T18:46:20.922574",
     "exception": false,
     "start_time": "2023-04-04T18:46:20.896931",
     "status": "completed"
    },
    "tags": []
   },
   "source": [
    "## 5. Data Modelling"
   ]
  },
  {
   "cell_type": "markdown",
   "id": "b4ed5cc6",
   "metadata": {
    "papermill": {
     "duration": 0.016603,
     "end_time": "2023-04-04T18:46:20.956177",
     "exception": false,
     "start_time": "2023-04-04T18:46:20.939574",
     "status": "completed"
    },
    "tags": []
   },
   "source": [
    "This is where we start with machine learning. We use a machine learning algorithm or a model where we train the model based on a subset of the dataset.\n",
    "\n",
    "For this project, as mentioned previously, we will use Support Vector Machines Algorithm."
   ]
  },
  {
   "cell_type": "markdown",
   "id": "92a9178c",
   "metadata": {
    "papermill": {
     "duration": 0.01672,
     "end_time": "2023-04-04T18:46:20.990042",
     "exception": false,
     "start_time": "2023-04-04T18:46:20.973322",
     "status": "completed"
    },
    "tags": []
   },
   "source": [
    "***a) Splitting the data***"
   ]
  },
  {
   "cell_type": "markdown",
   "id": "736db77c",
   "metadata": {
    "papermill": {
     "duration": 0.016655,
     "end_time": "2023-04-04T18:46:21.023673",
     "exception": false,
     "start_time": "2023-04-04T18:46:21.007018",
     "status": "completed"
    },
    "tags": []
   },
   "source": [
    "First, we split the dataset into X(Input attributes) and Y(Target attribute) from which we will get the **train set**(subset used to train the model) and **test set**(subset used to test the trained model)"
   ]
  },
  {
   "cell_type": "markdown",
   "id": "78761531",
   "metadata": {
    "papermill": {
     "duration": 0.016977,
     "end_time": "2023-04-04T18:46:21.058226",
     "exception": false,
     "start_time": "2023-04-04T18:46:21.041249",
     "status": "completed"
    },
    "tags": []
   },
   "source": [
    "***i)Defining X and Y***"
   ]
  },
  {
   "cell_type": "code",
   "execution_count": 13,
   "id": "e41fe873",
   "metadata": {
    "execution": {
     "iopub.execute_input": "2023-04-04T18:46:21.094380Z",
     "iopub.status.busy": "2023-04-04T18:46:21.093914Z",
     "iopub.status.idle": "2023-04-04T18:46:21.112443Z",
     "shell.execute_reply": "2023-04-04T18:46:21.111116Z"
    },
    "papermill": {
     "duration": 0.039684,
     "end_time": "2023-04-04T18:46:21.114901",
     "exception": false,
     "start_time": "2023-04-04T18:46:21.075217",
     "status": "completed"
    },
    "tags": []
   },
   "outputs": [
    {
     "data": {
      "text/html": [
       "<div>\n",
       "<style scoped>\n",
       "    .dataframe tbody tr th:only-of-type {\n",
       "        vertical-align: middle;\n",
       "    }\n",
       "\n",
       "    .dataframe tbody tr th {\n",
       "        vertical-align: top;\n",
       "    }\n",
       "\n",
       "    .dataframe thead th {\n",
       "        text-align: right;\n",
       "    }\n",
       "</style>\n",
       "<table border=\"1\" class=\"dataframe\">\n",
       "  <thead>\n",
       "    <tr style=\"text-align: right;\">\n",
       "      <th></th>\n",
       "      <th>SepalLengthCm</th>\n",
       "      <th>SepalWidthCm</th>\n",
       "      <th>PetalLengthCm</th>\n",
       "      <th>PetalWidthCm</th>\n",
       "    </tr>\n",
       "  </thead>\n",
       "  <tbody>\n",
       "    <tr>\n",
       "      <th>0</th>\n",
       "      <td>5.1</td>\n",
       "      <td>3.5</td>\n",
       "      <td>1.4</td>\n",
       "      <td>0.2</td>\n",
       "    </tr>\n",
       "    <tr>\n",
       "      <th>1</th>\n",
       "      <td>4.9</td>\n",
       "      <td>3.0</td>\n",
       "      <td>1.4</td>\n",
       "      <td>0.2</td>\n",
       "    </tr>\n",
       "    <tr>\n",
       "      <th>2</th>\n",
       "      <td>4.7</td>\n",
       "      <td>3.2</td>\n",
       "      <td>1.3</td>\n",
       "      <td>0.2</td>\n",
       "    </tr>\n",
       "    <tr>\n",
       "      <th>3</th>\n",
       "      <td>4.6</td>\n",
       "      <td>3.1</td>\n",
       "      <td>1.5</td>\n",
       "      <td>0.2</td>\n",
       "    </tr>\n",
       "    <tr>\n",
       "      <th>4</th>\n",
       "      <td>5.0</td>\n",
       "      <td>3.6</td>\n",
       "      <td>1.4</td>\n",
       "      <td>0.2</td>\n",
       "    </tr>\n",
       "    <tr>\n",
       "      <th>...</th>\n",
       "      <td>...</td>\n",
       "      <td>...</td>\n",
       "      <td>...</td>\n",
       "      <td>...</td>\n",
       "    </tr>\n",
       "    <tr>\n",
       "      <th>145</th>\n",
       "      <td>6.7</td>\n",
       "      <td>3.0</td>\n",
       "      <td>5.2</td>\n",
       "      <td>2.3</td>\n",
       "    </tr>\n",
       "    <tr>\n",
       "      <th>146</th>\n",
       "      <td>6.3</td>\n",
       "      <td>2.5</td>\n",
       "      <td>5.0</td>\n",
       "      <td>1.9</td>\n",
       "    </tr>\n",
       "    <tr>\n",
       "      <th>147</th>\n",
       "      <td>6.5</td>\n",
       "      <td>3.0</td>\n",
       "      <td>5.2</td>\n",
       "      <td>2.0</td>\n",
       "    </tr>\n",
       "    <tr>\n",
       "      <th>148</th>\n",
       "      <td>6.2</td>\n",
       "      <td>3.4</td>\n",
       "      <td>5.4</td>\n",
       "      <td>2.3</td>\n",
       "    </tr>\n",
       "    <tr>\n",
       "      <th>149</th>\n",
       "      <td>5.9</td>\n",
       "      <td>3.0</td>\n",
       "      <td>5.1</td>\n",
       "      <td>1.8</td>\n",
       "    </tr>\n",
       "  </tbody>\n",
       "</table>\n",
       "<p>150 rows × 4 columns</p>\n",
       "</div>"
      ],
      "text/plain": [
       "     SepalLengthCm  SepalWidthCm  PetalLengthCm  PetalWidthCm\n",
       "0              5.1           3.5            1.4           0.2\n",
       "1              4.9           3.0            1.4           0.2\n",
       "2              4.7           3.2            1.3           0.2\n",
       "3              4.6           3.1            1.5           0.2\n",
       "4              5.0           3.6            1.4           0.2\n",
       "..             ...           ...            ...           ...\n",
       "145            6.7           3.0            5.2           2.3\n",
       "146            6.3           2.5            5.0           1.9\n",
       "147            6.5           3.0            5.2           2.0\n",
       "148            6.2           3.4            5.4           2.3\n",
       "149            5.9           3.0            5.1           1.8\n",
       "\n",
       "[150 rows x 4 columns]"
      ]
     },
     "execution_count": 13,
     "metadata": {},
     "output_type": "execute_result"
    }
   ],
   "source": [
    "X=irisdf.iloc[:,:-1]\n",
    "X"
   ]
  },
  {
   "cell_type": "code",
   "execution_count": 14,
   "id": "aee1465d",
   "metadata": {
    "execution": {
     "iopub.execute_input": "2023-04-04T18:46:21.152791Z",
     "iopub.status.busy": "2023-04-04T18:46:21.151659Z",
     "iopub.status.idle": "2023-04-04T18:46:21.161343Z",
     "shell.execute_reply": "2023-04-04T18:46:21.160151Z"
    },
    "papermill": {
     "duration": 0.03109,
     "end_time": "2023-04-04T18:46:21.163742",
     "exception": false,
     "start_time": "2023-04-04T18:46:21.132652",
     "status": "completed"
    },
    "tags": []
   },
   "outputs": [
    {
     "data": {
      "text/plain": [
       "0         Iris-setosa\n",
       "1         Iris-setosa\n",
       "2         Iris-setosa\n",
       "3         Iris-setosa\n",
       "4         Iris-setosa\n",
       "            ...      \n",
       "145    Iris-virginica\n",
       "146    Iris-virginica\n",
       "147    Iris-virginica\n",
       "148    Iris-virginica\n",
       "149    Iris-virginica\n",
       "Name: Species, Length: 150, dtype: object"
      ]
     },
     "execution_count": 14,
     "metadata": {},
     "output_type": "execute_result"
    }
   ],
   "source": [
    "Y=irisdf.iloc[:,-1]\n",
    "Y"
   ]
  },
  {
   "cell_type": "markdown",
   "id": "2e7e69bf",
   "metadata": {
    "papermill": {
     "duration": 0.017001,
     "end_time": "2023-04-04T18:46:21.198102",
     "exception": false,
     "start_time": "2023-04-04T18:46:21.181101",
     "status": "completed"
    },
    "tags": []
   },
   "source": [
    "***ii)Defining train and test***"
   ]
  },
  {
   "cell_type": "code",
   "execution_count": 15,
   "id": "6f4f97fe",
   "metadata": {
    "execution": {
     "iopub.execute_input": "2023-04-04T18:46:21.235765Z",
     "iopub.status.busy": "2023-04-04T18:46:21.234818Z",
     "iopub.status.idle": "2023-04-04T18:46:21.244855Z",
     "shell.execute_reply": "2023-04-04T18:46:21.243691Z"
    },
    "papermill": {
     "duration": 0.032082,
     "end_time": "2023-04-04T18:46:21.247533",
     "exception": false,
     "start_time": "2023-04-04T18:46:21.215451",
     "status": "completed"
    },
    "tags": []
   },
   "outputs": [],
   "source": [
    "X_train, X_test, Y_train, Y_test = train_test_split(X,Y,test_size=0.3,random_state=81)"
   ]
  },
  {
   "cell_type": "markdown",
   "id": "484fb0c6",
   "metadata": {
    "papermill": {
     "duration": 0.017487,
     "end_time": "2023-04-04T18:46:21.282745",
     "exception": false,
     "start_time": "2023-04-04T18:46:21.265258",
     "status": "completed"
    },
    "tags": []
   },
   "source": [
    "***b)Generation of the Model***"
   ]
  },
  {
   "cell_type": "markdown",
   "id": "48cd334a",
   "metadata": {
    "papermill": {
     "duration": 0.01698,
     "end_time": "2023-04-04T18:46:21.317148",
     "exception": false,
     "start_time": "2023-04-04T18:46:21.300168",
     "status": "completed"
    },
    "tags": []
   },
   "source": [
    "To make an SVM model, we first create a ***SVC***(Support Vector Classifier) object by passing argument kernel as a linear kernel in the SVC() function"
   ]
  },
  {
   "cell_type": "code",
   "execution_count": 16,
   "id": "99aab3ff",
   "metadata": {
    "execution": {
     "iopub.execute_input": "2023-04-04T18:46:21.353993Z",
     "iopub.status.busy": "2023-04-04T18:46:21.353570Z",
     "iopub.status.idle": "2023-04-04T18:46:21.358924Z",
     "shell.execute_reply": "2023-04-04T18:46:21.357722Z"
    },
    "papermill": {
     "duration": 0.026776,
     "end_time": "2023-04-04T18:46:21.361295",
     "exception": false,
     "start_time": "2023-04-04T18:46:21.334519",
     "status": "completed"
    },
    "tags": []
   },
   "outputs": [],
   "source": [
    "#Creation of svm Classifier\n",
    "claf=svm.SVC(kernel='linear')"
   ]
  },
  {
   "cell_type": "markdown",
   "id": "e64e2ff5",
   "metadata": {
    "papermill": {
     "duration": 0.01696,
     "end_time": "2023-04-04T18:46:21.395720",
     "exception": false,
     "start_time": "2023-04-04T18:46:21.378760",
     "status": "completed"
    },
    "tags": []
   },
   "source": [
    "Then we train the model using the fit function"
   ]
  },
  {
   "cell_type": "code",
   "execution_count": 17,
   "id": "c2d89835",
   "metadata": {
    "execution": {
     "iopub.execute_input": "2023-04-04T18:46:21.432392Z",
     "iopub.status.busy": "2023-04-04T18:46:21.431958Z",
     "iopub.status.idle": "2023-04-04T18:46:21.448669Z",
     "shell.execute_reply": "2023-04-04T18:46:21.447377Z"
    },
    "papermill": {
     "duration": 0.038129,
     "end_time": "2023-04-04T18:46:21.451177",
     "exception": false,
     "start_time": "2023-04-04T18:46:21.413048",
     "status": "completed"
    },
    "tags": []
   },
   "outputs": [
    {
     "data": {
      "text/plain": [
       "SVC(kernel='linear')"
      ]
     },
     "execution_count": 17,
     "metadata": {},
     "output_type": "execute_result"
    }
   ],
   "source": [
    "#Train the model using the training sets\n",
    "claf.fit(X_train,Y_train)"
   ]
  },
  {
   "cell_type": "markdown",
   "id": "8427e13b",
   "metadata": {
    "papermill": {
     "duration": 0.017604,
     "end_time": "2023-04-04T18:46:21.486543",
     "exception": false,
     "start_time": "2023-04-04T18:46:21.468939",
     "status": "completed"
    },
    "tags": []
   },
   "source": [
    "## 6. Prediction and Testing"
   ]
  },
  {
   "cell_type": "markdown",
   "id": "a37bc759",
   "metadata": {
    "papermill": {
     "duration": 0.017078,
     "end_time": "2023-04-04T18:46:21.521145",
     "exception": false,
     "start_time": "2023-04-04T18:46:21.504067",
     "status": "completed"
    },
    "tags": []
   },
   "source": [
    "The final step is to first, make a prediction from our model and then, test it against our test set to see the accuracy of the model.\n",
    "\n",
    "(How accurately can the model predict the species of the iris flower from the physical features of the plant)\n",
    "\n",
    "We can use the accuracy function or a confusion matrix for better understanding of the model."
   ]
  },
  {
   "cell_type": "markdown",
   "id": "e5b53168",
   "metadata": {
    "papermill": {
     "duration": 0.017418,
     "end_time": "2023-04-04T18:46:21.556465",
     "exception": false,
     "start_time": "2023-04-04T18:46:21.539047",
     "status": "completed"
    },
    "tags": []
   },
   "source": [
    "***i)Definition and prediction done by the model***"
   ]
  },
  {
   "cell_type": "code",
   "execution_count": 18,
   "id": "1308d04f",
   "metadata": {
    "execution": {
     "iopub.execute_input": "2023-04-04T18:46:21.593978Z",
     "iopub.status.busy": "2023-04-04T18:46:21.593178Z",
     "iopub.status.idle": "2023-04-04T18:46:21.599908Z",
     "shell.execute_reply": "2023-04-04T18:46:21.598885Z"
    },
    "papermill": {
     "duration": 0.028338,
     "end_time": "2023-04-04T18:46:21.602229",
     "exception": false,
     "start_time": "2023-04-04T18:46:21.573891",
     "status": "completed"
    },
    "tags": []
   },
   "outputs": [],
   "source": [
    "#Definition of the prediction\n",
    "Y_pred = claf.predict(X_test)"
   ]
  },
  {
   "cell_type": "code",
   "execution_count": 19,
   "id": "d90ca205",
   "metadata": {
    "execution": {
     "iopub.execute_input": "2023-04-04T18:46:21.639443Z",
     "iopub.status.busy": "2023-04-04T18:46:21.638996Z",
     "iopub.status.idle": "2023-04-04T18:46:21.647760Z",
     "shell.execute_reply": "2023-04-04T18:46:21.646425Z"
    },
    "papermill": {
     "duration": 0.03043,
     "end_time": "2023-04-04T18:46:21.650535",
     "exception": false,
     "start_time": "2023-04-04T18:46:21.620105",
     "status": "completed"
    },
    "tags": []
   },
   "outputs": [
    {
     "name": "stdout",
     "output_type": "stream",
     "text": [
      "Prediction of Species: ['Iris-setosa' 'Iris-versicolor' 'Iris-virginica']\n"
     ]
    },
    {
     "name": "stderr",
     "output_type": "stream",
     "text": [
      "/opt/conda/lib/python3.7/site-packages/sklearn/base.py:451: UserWarning: X does not have valid feature names, but SVC was fitted with feature names\n",
      "  \"X does not have valid feature names, but\"\n"
     ]
    }
   ],
   "source": [
    "X_new = np.array([[3, 2, 1, 0.2], [4.9, 3.1, 3.8, 1.1], [5.3, 2.2, 4.3, 1.9]])\n",
    "#Prediction of the species\n",
    "prediction = claf.predict(X_new)\n",
    "print(\"Prediction of Species: {}\".format(prediction))"
   ]
  },
  {
   "cell_type": "markdown",
   "id": "efee8a93",
   "metadata": {
    "papermill": {
     "duration": 0.017315,
     "end_time": "2023-04-04T18:46:21.685352",
     "exception": false,
     "start_time": "2023-04-04T18:46:21.668037",
     "status": "completed"
    },
    "tags": []
   },
   "source": [
    "***ii) Confusion matrix***"
   ]
  },
  {
   "cell_type": "markdown",
   "id": "33d4a332",
   "metadata": {
    "papermill": {
     "duration": 0.017178,
     "end_time": "2023-04-04T18:46:21.720153",
     "exception": false,
     "start_time": "2023-04-04T18:46:21.702975",
     "status": "completed"
    },
    "tags": []
   },
   "source": [
    "We make use of the confusion matrix to determine the performance of the classification models for a given set of test data.It shows the errors in the model performance in the form of a matrix, hence also known as an error matrix."
   ]
  },
  {
   "cell_type": "code",
   "execution_count": 20,
   "id": "36414a61",
   "metadata": {
    "execution": {
     "iopub.execute_input": "2023-04-04T18:46:21.757550Z",
     "iopub.status.busy": "2023-04-04T18:46:21.757094Z",
     "iopub.status.idle": "2023-04-04T18:46:22.056792Z",
     "shell.execute_reply": "2023-04-04T18:46:22.055403Z"
    },
    "papermill": {
     "duration": 0.321767,
     "end_time": "2023-04-04T18:46:22.059536",
     "exception": false,
     "start_time": "2023-04-04T18:46:21.737769",
     "status": "completed"
    },
    "tags": []
   },
   "outputs": [
    {
     "data": {
      "image/png": "[encoded data removed]",
      "text/plain": [
       "<Figure size 700x700 with 2 Axes>"
      ]
     },
     "metadata": {},
     "output_type": "display_data"
    }
   ],
   "source": [
    "cm=confusion_matrix(Y_pred,Y_test)\n",
    "plt.figure(figsize=(7,7))\n",
    "sns.heatmap(cm,annot=True)\n",
    "plt.xlabel('predicted-y')\n",
    "plt.ylabel('actual-y')\n",
    "plt.show()"
   ]
  },
  {
   "cell_type": "markdown",
   "id": "0f684d66",
   "metadata": {
    "papermill": {
     "duration": 0.018015,
     "end_time": "2023-04-04T18:46:22.096396",
     "exception": false,
     "start_time": "2023-04-04T18:46:22.078381",
     "status": "completed"
    },
    "tags": []
   },
   "source": [
    "***iii)Checking the accuracy of the model***"
   ]
  },
  {
   "cell_type": "code",
   "execution_count": 21,
   "id": "45c86f5a",
   "metadata": {
    "execution": {
     "iopub.execute_input": "2023-04-04T18:46:22.135047Z",
     "iopub.status.busy": "2023-04-04T18:46:22.134631Z",
     "iopub.status.idle": "2023-04-04T18:46:22.141513Z",
     "shell.execute_reply": "2023-04-04T18:46:22.140210Z"
    },
    "papermill": {
     "duration": 0.030066,
     "end_time": "2023-04-04T18:46:22.144746",
     "exception": false,
     "start_time": "2023-04-04T18:46:22.114680",
     "status": "completed"
    },
    "tags": []
   },
   "outputs": [
    {
     "name": "stdout",
     "output_type": "stream",
     "text": [
      "Accuracy: 1.0\n"
     ]
    }
   ],
   "source": [
    "print(\"Accuracy:\",metrics.accuracy_score(Y_test, Y_pred))"
   ]
  }
 ],
 "metadata": {
  "kernelspec": {
   "display_name": "Python 3",
   "language": "python",
   "name": "python3"
  },
  "language_info": {
   "codemirror_mode": {
    "name": "ipython",
    "version": 3
   },
   "file_extension": ".py",
   "mimetype": "text/x-python",
   "name": "python",
   "nbconvert_exporter": "python",
   "pygments_lexer": "ipython3",
   "version": "3.7.12"
  },
  "papermill": {
   "default_parameters": {},
   "duration": 19.722978,
   "end_time": "2023-04-04T18:46:23.086514",
   "environment_variables": {},
   "exception": null,
   "input_path": "__notebook__.ipynb",
   "output_path": "__notebook__.ipynb",
   "parameters": {},
   "start_time": "2023-04-04T18:46:03.363536",
   "version": "2.4.0"
  }
 },
 "nbformat": 4,
 "nbformat_minor": 5
}
